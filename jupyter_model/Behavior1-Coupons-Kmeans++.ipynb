{
 "cells": [
  {
   "cell_type": "code",
   "execution_count": 2,
   "metadata": {},
   "outputs": [
    {
     "data": {
      "image/png": "[encoded data removed]",
      "text/plain": [
       "<Figure size 432x288 with 1 Axes>"
      ]
     },
     "metadata": {
      "needs_background": "light"
     },
     "output_type": "display_data"
    }
   ],
   "source": [
    "# -*- coding: utf-8 -*-\n",
    "from pyhive import hive\n",
    "\n",
    "HOST = \"192.168.12.5\"\n",
    "PORT = 10000\n",
    "NAME = \"root\"\n",
    "PASSWORD = \"5606603\"\n",
    "DATABASE=\"behavior_labels\"\n",
    "conn = hive.Connection(host=HOST, port=PORT, username=NAME, password=PASSWORD, auth=\"LDAP\", database=DATABASE)\n",
    "\n",
    "cursor = conn.cursor()\n",
    "sql = \"SELECT  score from dw_vip_scores where subject = 1\"\n",
    "cursor.execute(sql)\n",
    "\n",
    "data=[]\n",
    "for result in cursor.fetchall():\n",
    "    data.append(result)\n",
    "    \n",
    "    \n",
    "import pandas as pd\n",
    "data=pd.DataFrame(data)\n",
    "data=data.drop_duplicates()\n",
    "\n",
    "import sys\n",
    "reload(sys)\n",
    "sys.setdefaultencoding('utf-8')\n",
    "\n",
    "import matplotlib.pyplot as plt\n",
    "from sklearn.cluster import KMeans\n",
    "\n",
    "# 划分聚类\n",
    "# SSE轴图\n",
    "SSE = []\n",
    "for k in range(1, 15):\n",
    "    estimator = KMeans(n_clusters=k, n_jobs=1, n_init=10, max_iter=300)\n",
    "    estimator.fit(data)\n",
    "    SSE.append(estimator.inertia_)\n",
    "X = range(1, 15)\n",
    "plt.xlabel(\"k\")\n",
    "plt.ylabel(\"SSE\")\n",
    "plt.plot(X, SSE, \"o-\")\n",
    "plt.savefig(\"/home/messi/paints/Coupons-K.png\", format=\"png\")\n",
    "plt.show()"
   ]
  },
  {
   "cell_type": "code",
   "execution_count": 23,
   "metadata": {},
   "outputs": [
    {
     "data": {
      "text/html": [
       "<div>\n",
       "<style scoped>\n",
       "    .dataframe tbody tr th:only-of-type {\n",
       "        vertical-align: middle;\n",
       "    }\n",
       "\n",
       "    .dataframe tbody tr th {\n",
       "        vertical-align: top;\n",
       "    }\n",
       "\n",
       "    .dataframe thead th {\n",
       "        text-align: right;\n",
       "    }\n",
       "</style>\n",
       "<table border=\"1\" class=\"dataframe\">\n",
       "  <thead>\n",
       "    <tr style=\"text-align: right;\">\n",
       "      <th></th>\n",
       "      <th>0</th>\n",
       "    </tr>\n",
       "  </thead>\n",
       "  <tbody>\n",
       "    <tr>\n",
       "      <th>count</th>\n",
       "      <td>574.000000</td>\n",
       "    </tr>\n",
       "    <tr>\n",
       "      <th>mean</th>\n",
       "      <td>50.664599</td>\n",
       "    </tr>\n",
       "    <tr>\n",
       "      <th>std</th>\n",
       "      <td>23.922315</td>\n",
       "    </tr>\n",
       "    <tr>\n",
       "      <th>min</th>\n",
       "      <td>1.000000</td>\n",
       "    </tr>\n",
       "    <tr>\n",
       "      <th>25%</th>\n",
       "      <td>32.692500</td>\n",
       "    </tr>\n",
       "    <tr>\n",
       "      <th>50%</th>\n",
       "      <td>50.690000</td>\n",
       "    </tr>\n",
       "    <tr>\n",
       "      <th>75%</th>\n",
       "      <td>68.687500</td>\n",
       "    </tr>\n",
       "    <tr>\n",
       "      <th>max</th>\n",
       "      <td>100.000000</td>\n",
       "    </tr>\n",
       "  </tbody>\n",
       "</table>\n",
       "</div>"
      ],
      "text/plain": [
       "                0\n",
       "count  574.000000\n",
       "mean    50.664599\n",
       "std     23.922315\n",
       "min      1.000000\n",
       "25%     32.692500\n",
       "50%     50.690000\n",
       "75%     68.687500\n",
       "max    100.000000"
      ]
     },
     "execution_count": 23,
     "metadata": {},
     "output_type": "execute_result"
    }
   ],
   "source": [
    "data.describe()"
   ]
  },
  {
   "cell_type": "code",
   "execution_count": 3,
   "metadata": {},
   "outputs": [
    {
     "data": {
      "image/png": "[encoded data removed]",
      "text/plain": [
       "<Figure size 432x288 with 1 Axes>"
      ]
     },
     "metadata": {
      "needs_background": "light"
     },
     "output_type": "display_data"
    }
   ],
   "source": [
    "# 轮廓系数\n",
    "import sys\n",
    "reload(sys)\n",
    "sys.setdefaultencoding('utf-8')\n",
    "\n",
    "from sklearn.metrics import silhouette_score\n",
    "Scores = []\n",
    "for k in range(2, 15):\n",
    "    estimator = KMeans(n_clusters=k, n_jobs=1, n_init=10, max_iter=300)\n",
    "    estimator.fit(data)\n",
    "    Scores.append(silhouette_score(data, estimator.labels_, metric=\"euclidean\"))\n",
    "X = range(2, 15)\n",
    "plt.xlabel(\"k\")\n",
    "plt.ylabel(\"Silhouette Coefficient\")\n",
    "plt.plot(X, Scores, \"o-\")\n",
    "plt.savefig(\"/home/messi/paints/couponslunkuo.png\", format=\"png\")\n",
    "plt.show()"
   ]
  },
  {
   "cell_type": "code",
   "execution_count": 4,
   "metadata": {},
   "outputs": [
    {
     "data": {
      "text/plain": [
       "array([[<matplotlib.axes._subplots.AxesSubplot object at 0x7f45467c5650>]],\n",
       "      dtype=object)"
      ]
     },
     "execution_count": 4,
     "metadata": {},
     "output_type": "execute_result"
    },
    {
     "data": {
      "text/plain": [
       "<Figure size 1080x1080 with 0 Axes>"
      ]
     },
     "metadata": {},
     "output_type": "display_data"
    },
    {
     "data": {
      "image/png": "[encoded data removed]",
      "text/plain": [
       "<Figure size 432x288 with 1 Axes>"
      ]
     },
     "metadata": {
      "needs_background": "light"
     },
     "output_type": "display_data"
    }
   ],
   "source": [
    "# 数据分布图\n",
    "import numpy as np\n",
    "plt.figure(figsize=(15, 15))\n",
    "data.hist()"
   ]
  },
  {
   "cell_type": "code",
   "execution_count": 5,
   "metadata": {},
   "outputs": [
    {
     "data": {
      "image/png": "[encoded data removed]",
      "text/plain": [
       "<Figure size 432x288 with 1 Axes>"
      ]
     },
     "metadata": {
      "needs_background": "light"
     },
     "output_type": "display_data"
    }
   ],
   "source": [
    "# -*- coding: utf-8 -*-\n",
    "# 轮廓系数图\n",
    "\n",
    "from matplotlib import cm\n",
    "import numpy as np\n",
    "from sklearn.metrics import silhouette_samples\n",
    "\n",
    "import sys\n",
    "reload(sys)\n",
    "sys.setdefaultencoding('utf-8')\n",
    "\n",
    "km = KMeans(n_clusters=4, n_init=10, n_jobs=1, max_iter=300)\n",
    "y_km = km.fit_predict(data)\n",
    "\n",
    "cluster_labels = np.unique(y_km)\n",
    "n_clusters = cluster_labels.shape[0]\n",
    "silhouette_vals = silhouette_samples(data, y_km, metric=\"euclidean\")  #minkowski,  euclidean, backend=\"threading\"\n",
    "y_ax_lower, y_ax_upper = 0, 0\n",
    "yticks = []\n",
    "for i, c in enumerate(cluster_labels):\n",
    "    c_silhouette_vals = silhouette_vals[y_km == c]\n",
    "    c_silhouette_vals.sort()\n",
    "    y_ax_upper += len(c_silhouette_vals)\n",
    "    color = cm.jet(i / n_clusters)\n",
    "    plt.barh(range(y_ax_lower, y_ax_upper), c_silhouette_vals, height=1.0, edgecolor=\"None\", color=color)\n",
    "    yticks.append((y_ax_lower + y_ax_upper) / 2)\n",
    "    y_ax_lower += len(c_silhouette_vals)\n",
    "silhouette_avg = np.mean(silhouette_vals)\n",
    "plt.axvline(silhouette_avg, color=\"red\", linestyle=\"--\")\n",
    "plt.yticks(yticks, cluster_labels + 1)\n",
    "plt.ylabel(\"Cluster\")\n",
    "plt.xlabel(\"Silhouette coefficient\")\n",
    "plt.savefig(\"/home/messi/paints/SilhouetteCoupons.png\", format=\"png\")\n",
    "plt.show()"
   ]
  },
  {
   "cell_type": "code",
   "execution_count": 22,
   "metadata": {},
   "outputs": [
    {
     "data": {
      "image/png": "[encoded data removed]",
      "text/plain": [
       "<Figure size 720x720 with 1 Axes>"
      ]
     },
     "metadata": {
      "needs_background": "light"
     },
     "output_type": "display_data"
    }
   ],
   "source": [
    "# 人群区间图\n",
    "center = km.cluster_centers_\n",
    "labels = km.labels_\n",
    "\n",
    "n = pd.Series(labels).value_counts()\n",
    "number = n.values\n",
    "\n",
    "score = []\n",
    "for i in range(len(center)):\n",
    "    score.append(int(center[i][0]))\n",
    "score\n",
    "\n",
    "plt.figure(figsize=(10, 10))\n",
    "plt.bar(score, number, 2, label=\"score-number\", color=\"green\")\n",
    "plt.ylabel(\"number\", fontsize=20)\n",
    "plt.xlabel(\"score\", fontsize=20)\n",
    "plt.title(\"Behavior Labels 1\", fontsize=20)\n",
    "\n",
    "for a,b in zip(score, number):\n",
    "    plt.text(a, b + 0.05, \"%.0f\" % b, ha=\"center\", va =\"bottom\", fontsize=15)\n",
    "plt.ylim(0, 200)\n",
    "\n",
    "plt.savefig(\"/home/messi/paints/Coupons.png\", format=\"png\")\n",
    "plt.show()"
   ]
  },
  {
   "cell_type": "code",
   "execution_count": null,
   "metadata": {},
   "outputs": [],
   "source": []
  }
 ],
 "metadata": {
  "kernelspec": {
   "display_name": "Python 2",
   "language": "python",
   "name": "python2"
  },
  "language_info": {
   "codemirror_mode": {
    "name": "ipython",
    "version": 2
   },
   "file_extension": ".py",
   "mimetype": "text/x-python",
   "name": "python",
   "nbconvert_exporter": "python",
   "pygments_lexer": "ipython2",
   "version": "2.7.11"
  }
 },
 "nbformat": 4,
 "nbformat_minor": 2
}
